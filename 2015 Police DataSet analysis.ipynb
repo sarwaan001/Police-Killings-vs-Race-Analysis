{
 "cells": [
  {
   "cell_type": "markdown",
   "metadata": {},
   "source": [
    "# 2015 Data on Police Killing and Race Analysis"
   ]
  },
  {
   "cell_type": "code",
   "execution_count": 1,
   "metadata": {},
   "outputs": [],
   "source": [
    "import pandas as pd\n",
    "import numpy as np\n",
    "from scipy.stats import chisquare\n",
    "from scipy.stats import ttest_1samp\n",
    "from matplotlib import pyplot as plt\n",
    "import seaborn as sns"
   ]
  },
  {
   "cell_type": "code",
   "execution_count": 2,
   "metadata": {},
   "outputs": [],
   "source": [
    "df = pd.read_csv('police_killings.csv', encoding = \"ISO-8859-1\")"
   ]
  },
  {
   "cell_type": "code",
   "execution_count": 3,
   "metadata": {
    "scrolled": false
   },
   "outputs": [
    {
     "name": "stdout",
     "output_type": "stream",
     "text": [
      "                 name age gender    raceethnicity     month  day  year  \\\n",
      "0  A'donte Washington  16   Male            Black  February   23  2015   \n",
      "1      Aaron Rutledge  27   Male            White     April    2  2015   \n",
      "2         Aaron Siler  26   Male            White     March   14  2015   \n",
      "3        Aaron Valdez  25   Male  Hispanic/Latino     March   11  2015   \n",
      "4        Adam Jovicic  29   Male            White     March   19  2015   \n",
      "\n",
      "            streetaddress          city state    ...     share_hispanic  \\\n",
      "0            Clearview Ln     Millbrook    AL    ...                5.6   \n",
      "1  300 block Iris Park Dr     Pineville    LA    ...                0.5   \n",
      "2    22nd Ave and 56th St       Kenosha    WI    ...               16.8   \n",
      "3       3000 Seminole Ave    South Gate    CA    ...               98.8   \n",
      "4          364 Hiwood Ave  Munroe Falls    OH    ...                1.7   \n",
      "\n",
      "   p_income  h_income  county_income  comp_income  county_bucket  nat_bucket  \\\n",
      "0     28375   51367.0          54766     0.937936            3.0         3.0   \n",
      "1     14678   27972.0          40930     0.683411            2.0         1.0   \n",
      "2     25286   45365.0          54930     0.825869            2.0         3.0   \n",
      "3     17194   48295.0          55909     0.863814            3.0         3.0   \n",
      "4     33954   68785.0          49669     1.384868            5.0         4.0   \n",
      "\n",
      "    pov     urate   college  \n",
      "0  14.1  0.097686  0.168510  \n",
      "1  28.8  0.065724  0.111402  \n",
      "2  14.6  0.166293  0.147312  \n",
      "3  11.7  0.124827  0.050133  \n",
      "4   1.9  0.063550  0.403954  \n",
      "\n",
      "[5 rows x 34 columns]\n"
     ]
    }
   ],
   "source": [
    "print(df.head())\n",
    "armed_transform = lambda row: 'No' if row['armed'] == 'No' else 'Yes'\n",
    "df['bool_armed'] = df.apply(armed_transform, axis = 1)"
   ]
  },
  {
   "cell_type": "code",
   "execution_count": 4,
   "metadata": {},
   "outputs": [
    {
     "name": "stdout",
     "output_type": "stream",
     "text": [
      "                      Race Armed  Counts\n",
      "0   Asian/Pacific Islander    No       4\n",
      "1   Asian/Pacific Islander   Yes       6\n",
      "2                    Black    No      32\n",
      "3                    Black   Yes     103\n",
      "4          Hispanic/Latino    No      13\n",
      "5          Hispanic/Latino   Yes      54\n",
      "6          Native American    No       1\n",
      "7          Native American   Yes       3\n",
      "8                  Unknown    No       1\n",
      "9                  Unknown   Yes      14\n",
      "10                   White    No      51\n",
      "11                   White   Yes     185\n"
     ]
    }
   ],
   "source": [
    "race_counts = df.groupby(['raceethnicity', 'bool_armed']).name.count().reset_index()\n",
    "race_counts.columns = ['Race','Armed' ,'Counts']\n",
    "print(race_counts)"
   ]
  },
  {
   "cell_type": "code",
   "execution_count": 5,
   "metadata": {},
   "outputs": [
    {
     "name": "stdout",
     "output_type": "stream",
     "text": [
      "                      Race Armed  Counts  Population Size    Normalized\n",
      "0   Asian/Pacific Islander    No       4     1.963005e+07  2.037693e-07\n",
      "1   Asian/Pacific Islander   Yes       6     1.963005e+07  3.056539e-07\n",
      "2                    Black    No      32     4.384044e+07  7.299197e-07\n",
      "3                    Black   Yes     103     4.384044e+07  2.349429e-06\n",
      "4          Hispanic/Latino    No      13     5.921731e+07  2.195304e-07\n",
      "5          Hispanic/Latino   Yes      54     5.921731e+07  9.118956e-07\n",
      "6          Native American    No       1     4.253177e+06  2.351184e-07\n",
      "7          Native American   Yes       3     4.253177e+06  7.053551e-07\n",
      "8                  Unknown    No       1     8.833521e+06  1.132051e-07\n",
      "9                  Unknown   Yes      14     8.833521e+06  1.584872e-06\n",
      "10                   White    No      51     2.506103e+08  2.035032e-07\n",
      "11                   White   Yes     185     2.506103e+08  7.381980e-07\n"
     ]
    }
   ],
   "source": [
    "#normalizing data with population sizes to compare. Population Data on 2015: https://www.census.gov/quickfacts/fact/table/US/PST045218\n",
    "percentages = [.06, .06, .134 , .134, .181, .181, .013, .013, .027, .027, .766, .766]\n",
    "population= 327167434\n",
    "population_size = [i*population for i in percentages]\n",
    "race_counts['Population Size'] = population_size\n",
    "row_multiplier = lambda row: row['Counts']/row['Population Size']\n",
    "race_counts['Normalized'] = race_counts.apply(row_multiplier, axis = 1)\n",
    "print(race_counts)\n"
   ]
  },
  {
   "cell_type": "code",
   "execution_count": 6,
   "metadata": {},
   "outputs": [
    {
     "data": {
      "image/png": "[encoded data removed]",
      "text/plain": [
       "<Figure size 864x504 with 1 Axes>"
      ]
     },
     "metadata": {
      "needs_background": "light"
     },
     "output_type": "display_data"
    }
   ],
   "source": [
    "f, ax = plt.subplots(figsize = (12, 7))\n",
    "sns.set_context('notebook')\n",
    "sns.barplot(data = race_counts, x = 'Race', y = 'Normalized', hue = 'Armed')\n",
    "plt.title('Police Killings by Race (Normalized) 2015')\n",
    "plt.ylabel('P(Killed by Police | Race)')\n",
    "plt.savefig('Police Killings by Race.png')\n",
    "plt.show()"
   ]
  },
  {
   "cell_type": "code",
   "execution_count": 7,
   "metadata": {},
   "outputs": [],
   "source": [
    "plt.close('all')"
   ]
  },
  {
   "cell_type": "code",
   "execution_count": 8,
   "metadata": {},
   "outputs": [
    {
     "name": "stdout",
     "output_type": "stream",
     "text": [
      "                     Race  Counts  expected\n",
      "0  Asian/Pacific Islander      10    28.020\n",
      "1                   Black     135    62.578\n",
      "2         Hispanic/Latino      67    84.527\n",
      "3         Native American       4     6.071\n",
      "4                 Unknown      15    12.609\n",
      "5                   White     236   357.722\n",
      "467.0\n"
     ]
    }
   ],
   "source": [
    "#Perform a chisquare test\n",
    "percentages = [.06, .134, .181, .013, .027, .766]\n",
    "race_percentages = df.groupby('raceethnicity').name.count().reset_index()\n",
    "race_percentages.columns = ['Race', 'Counts']\n",
    "total_count= float(len(df))\n",
    "race_percentages['expected'] = [total_count*percent for percent in percentages]\n",
    "print(race_percentages)\n",
    "print(total_count)"
   ]
  },
  {
   "cell_type": "code",
   "execution_count": 9,
   "metadata": {},
   "outputs": [
    {
     "name": "stdout",
     "output_type": "stream",
     "text": [
      "Power_divergenceResult(statistic=141.6159071891565, pvalue=8.112422192920854e-29)\n"
     ]
    }
   ],
   "source": [
    "y = chisquare(race_percentages['Counts'], f_exp = race_percentages['expected'])\n",
    "print(y)"
   ]
  },
  {
   "cell_type": "code",
   "execution_count": 10,
   "metadata": {},
   "outputs": [
    {
     "name": "stdout",
     "output_type": "stream",
     "text": [
      "    Race  Counts  expected\n",
      "1  Black     135    62.578\n",
      "5  White     236   357.722\n"
     ]
    }
   ],
   "source": [
    "#seperating black and white\n",
    "only_bw = race_percentages[(race_percentages.Race == 'Black') | (race_percentages.Race == 'White')]\n",
    "print(only_bw)"
   ]
  },
  {
   "cell_type": "code",
   "execution_count": 11,
   "metadata": {},
   "outputs": [
    {
     "name": "stdout",
     "output_type": "stream",
     "text": [
      "Power_divergenceResult(statistic=125.23285964494897, pvalue=4.525949623912207e-29)\n"
     ]
    }
   ],
   "source": [
    "z = chisquare(only_bw['Counts'], f_exp = only_bw['expected'])\n",
    "print(z)"
   ]
  }
 ],
 "metadata": {
  "kernelspec": {
   "display_name": "Python 3",
   "language": "python",
   "name": "python3"
  },
  "language_info": {
   "codemirror_mode": {
    "name": "ipython",
    "version": 3
   },
   "file_extension": ".py",
   "mimetype": "text/x-python",
   "name": "python",
   "nbconvert_exporter": "python",
   "pygments_lexer": "ipython3",
   "version": "3.7.1"
  }
 },
 "nbformat": 4,
 "nbformat_minor": 2
}
